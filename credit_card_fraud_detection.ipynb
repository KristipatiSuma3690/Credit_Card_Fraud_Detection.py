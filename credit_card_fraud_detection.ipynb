{
  "nbformat": 4,
  "nbformat_minor": 0,
  "metadata": {
    "colab": {
      "name": "credit card fraud detection.ipynb",
      "provenance": [],
      "authorship_tag": "ABX9TyNa962oXVws0vrrp9XWgv/x",
      "include_colab_link": true
    },
    "kernelspec": {
      "name": "python3",
      "display_name": "Python 3"
    },
    "language_info": {
      "name": "python"
    }
  },
  "cells": [
    {
      "cell_type": "markdown",
      "metadata": {
        "id": "view-in-github",
        "colab_type": "text"
      },
      "source": [
        "<a href=\"https://colab.research.google.com/github/KristipatiSuma3690/Credit_Card_Fraud_Detection.py/blob/main/credit_card_fraud_detection.ipynb\" target=\"_parent\"><img src=\"https://colab.research.google.com/assets/colab-badge.svg\" alt=\"Open In Colab\"/></a>"
      ]
    },
    {
      "cell_type": "code",
      "execution_count": null,
      "metadata": {
        "id": "zsnoQ9VRPEjy"
      },
      "outputs": [],
      "source": [
        "from google.colab import drive\n",
        "drive.mount('/content/drive')"
      ]
    },
    {
      "cell_type": "code",
      "source": [
        "import pandas as pd\n",
        "import numpy as np\n",
        "import matplotlib.pyplot as plt\n",
        "from sklearn.model_selection import train_test_split\n",
        "from sklearn.linear_model import LogisticRegression\n",
        "from sklearn.metrics import accuracy_score,classification_report\n"
      ],
      "metadata": {
        "id": "EcZ1R3DlPgvN"
      },
      "execution_count": null,
      "outputs": []
    },
    {
      "cell_type": "code",
      "source": [
        "df=pd.read_csv(\"/content/drive/My Drive/creditcard.csv\")\n",
        "df.head()"
      ],
      "metadata": {
        "id": "b4sR7fecQHHt"
      },
      "execution_count": null,
      "outputs": []
    },
    {
      "cell_type": "code",
      "source": [
        "df.info()"
      ],
      "metadata": {
        "id": "aZWGhM0_ZnXh"
      },
      "execution_count": null,
      "outputs": []
    },
    {
      "cell_type": "code",
      "source": [
        "df.isnull().sum()\n"
      ],
      "metadata": {
        "id": "WSaTHI3MbHd-"
      },
      "execution_count": null,
      "outputs": []
    },
    {
      "cell_type": "code",
      "source": [
        "df['Class'].value_counts()"
      ],
      "metadata": {
        "id": "a9ewQfYiefnc"
      },
      "execution_count": null,
      "outputs": []
    },
    {
      "cell_type": "markdown",
      "source": [
        "0---- Normal Transaction\n",
        "\n",
        "1---- fraud transaction\n"
      ],
      "metadata": {
        "id": "RwR0rjY9fozU"
      }
    },
    {
      "cell_type": "code",
      "source": [
        "ligit=df[df.Class==0]\n",
        "fraud=df[df.Class==1]\n",
        "print(ligit.shape)\n",
        "print(fraud.shape)"
      ],
      "metadata": {
        "id": "9F_KTO94fxFj"
      },
      "execution_count": null,
      "outputs": []
    },
    {
      "cell_type": "markdown",
      "source": [
        "## Visualize dataset."
      ],
      "metadata": {
        "id": "Yg9jjtO9k7iD"
      }
    },
    {
      "cell_type": "code",
      "source": [
        "\n",
        "\n",
        "labels=['ligit','fraud']\n",
        "countclass=df.value_counts(df['Class'],sort=True)\n",
        "countclass.plot(kind='bar',rot=0)\n",
        "plt.ylabel('Count')\n",
        "plt.show()\n"
      ],
      "metadata": {
        "id": "XhZb_2v2gqgP"
      },
      "execution_count": null,
      "outputs": []
    },
    {
      "cell_type": "code",
      "source": [
        "ligit.Amount.describe()"
      ],
      "metadata": {
        "id": "KAj0nIkpgCjz"
      },
      "execution_count": null,
      "outputs": []
    },
    {
      "cell_type": "code",
      "source": [
        "fraud.Amount.describe()"
      ],
      "metadata": {
        "id": "l6mmwuyZgWTo"
      },
      "execution_count": null,
      "outputs": []
    },
    {
      "cell_type": "code",
      "source": [
        "df.groupby('Class').mean()"
      ],
      "metadata": {
        "id": "Dhyke4I_g-y2"
      },
      "execution_count": null,
      "outputs": []
    },
    {
      "cell_type": "markdown",
      "source": [
        "#under sampling--- Build a sample dataset containing similar distribution of normal transaction and fraud transaction\n",
        "\n"
      ],
      "metadata": {
        "id": "DplPC-CJlM9O"
      }
    },
    {
      "cell_type": "code",
      "source": [
        "ligitsample=ligit.sample(n=492)"
      ],
      "metadata": {
        "id": "z_TtAEfUhzFo"
      },
      "execution_count": null,
      "outputs": []
    },
    {
      "cell_type": "code",
      "source": [
        "df1=pd.concat([ligitsample,fraud])\n",
        "df1.head()"
      ],
      "metadata": {
        "id": "spBHRNOviHBo"
      },
      "execution_count": null,
      "outputs": []
    },
    {
      "cell_type": "code",
      "source": [
        "df1['Class'].value_counts()"
      ],
      "metadata": {
        "id": "fyhZijPpkHeF"
      },
      "execution_count": null,
      "outputs": []
    },
    {
      "cell_type": "code",
      "source": [
        "df1.groupby('Class').mean()"
      ],
      "metadata": {
        "id": "N18xwsJmkogq"
      },
      "execution_count": null,
      "outputs": []
    },
    {
      "cell_type": "markdown",
      "source": [
        "# Splitting the data\n"
      ],
      "metadata": {
        "id": "T500OfEnlTxP"
      }
    },
    {
      "cell_type": "code",
      "source": [
        "x=df1.drop(columns='Class',axis=1)\n",
        "y=df1['Class']\n",
        "print(x)"
      ],
      "metadata": {
        "id": "lD6pwiu6lJDD"
      },
      "execution_count": null,
      "outputs": []
    },
    {
      "cell_type": "code",
      "source": [
        "x_train,x_test,y_train,y_test=train_test_split(x,y,test_size=0.2,stratify=y,random_state=2)\n",
        "print(x_train.shape,x.shape,x_test.shape)"
      ],
      "metadata": {
        "id": "RYNqsd9unf9o"
      },
      "execution_count": null,
      "outputs": []
    },
    {
      "cell_type": "markdown",
      "source": [
        "# Logistic Regression"
      ],
      "metadata": {
        "id": "aPrl5SNXlZyY"
      }
    },
    {
      "cell_type": "code",
      "source": [
        "model=LogisticRegression()"
      ],
      "metadata": {
        "id": "XNxjUJQcoYa7"
      },
      "execution_count": null,
      "outputs": []
    },
    {
      "cell_type": "code",
      "source": [
        "model.fit(x_train,y_train)\n"
      ],
      "metadata": {
        "id": "ziX5CvlYoi_3"
      },
      "execution_count": null,
      "outputs": []
    },
    {
      "cell_type": "markdown",
      "source": [
        "# Model Evaluation---Training set\n"
      ],
      "metadata": {
        "id": "yytrGuDhlkTx"
      }
    },
    {
      "cell_type": "code",
      "source": [
        "x_trainprediction=model.predict(x_train)\n",
        "trainingaccuracy=accuracy_score(x_trainprediction,y_train)\n",
        "print('Accuracy:',trainingaccuracy)"
      ],
      "metadata": {
        "id": "bLQk6UwxqIOq"
      },
      "execution_count": null,
      "outputs": []
    },
    {
      "cell_type": "markdown",
      "source": [
        "# Model Evaluation---Test set"
      ],
      "metadata": {
        "id": "l82aw5HaltT_"
      }
    },
    {
      "cell_type": "code",
      "source": [
        "x_testprediction=model.predict(x_test)\n",
        "testaccuracy=accuracy_score(x_testprediction,y_test)\n",
        "print(\"Accuracy\",testaccuracy)"
      ],
      "metadata": {
        "id": "ioeS3ohWjDvi"
      },
      "execution_count": null,
      "outputs": []
    },
    {
      "cell_type": "code",
      "source": [
        "print(classification_report(x_testprediction,y_test))"
      ],
      "metadata": {
        "id": "khyjQoUujnhy"
      },
      "execution_count": null,
      "outputs": []
    }
  ]
}